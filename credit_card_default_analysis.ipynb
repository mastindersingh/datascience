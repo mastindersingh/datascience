{
 "cells": [
  {
   "cell_type": "markdown",
   "id": "d74d46aa",
   "metadata": {},
   "source": [
    "\n",
    "# Credit Card Customers: Default Risk & Behavior Analysis (Python)\n",
    "\n",
    "**What this does**\n",
    "- Downloads the **Default of Credit Card Clients** dataset (UCI ML Repository)\n",
    "- Cleans & explores customer attributes (limits, bill/paid amounts, delinquency history)\n",
    "- Builds a simple **Logistic Regression** model to predict **default payment next month**\n",
    "- Shows metrics (Accuracy, ROC-AUC) and most important features\n",
    "\n",
    "**Run it online (recommended):**\n",
    "- Open in **Google Colab**, then run all cells\n",
    "- No local setup needed; internet required to download the dataset\n",
    "\n",
    "**Dataset**\n",
    "- Source: UCI ML Repository — *Default of Credit Card Clients* (Taiwan, 2005)\n",
    "- Rows: 30,000 customers; Target: `default.payment.next.month` (0/1)\n"
   ]
  },
  {
   "cell_type": "markdown",
   "id": "626fafc3",
   "metadata": {},
   "source": [
    "\n",
    "## 🚀 Quick Start\n",
    "\n",
    "1. Run the next cell to install dependencies (Colab: OK to run as-is).  \n",
    "2. Run the **Data Load** cell — it will fetch the dataset from UCI.  \n",
    "3. Run the remaining cells in order.\n"
   ]
  },
  {
   "cell_type": "code",
   "execution_count": null,
   "id": "bcdae4e5",
   "metadata": {},
   "outputs": [],
   "source": [
    "\n",
    "# If running on Colab, these ensure everything is available\n",
    "!pip -q install pandas numpy matplotlib scikit-learn seaborn openpyxl\n"
   ]
  },
  {
   "cell_type": "code",
   "execution_count": null,
   "id": "f2d9bf32",
   "metadata": {},
   "outputs": [],
   "source": [
    "\n",
    "import io\n",
    "import sys\n",
    "import math\n",
    "import numpy as np\n",
    "import pandas as pd\n",
    "import matplotlib.pyplot as plt\n",
    "import seaborn as sns\n",
    "\n",
    "from sklearn.model_selection import train_test_split\n",
    "from sklearn.preprocessing import StandardScaler\n",
    "from sklearn.linear_model import LogisticRegression\n",
    "from sklearn.metrics import accuracy_score, roc_auc_score, classification_report, ConfusionMatrixDisplay\n",
    "\n",
    "pd.set_option('display.max_columns', 100)\n"
   ]
  },
  {
   "cell_type": "markdown",
   "id": "584f475c",
   "metadata": {},
   "source": [
    "\n",
    "## 📥 Load Data\n",
    "\n",
    "We try the official UCI link first. If it fails, the code prints a helpful hint.\n"
   ]
  },
  {
   "cell_type": "code",
   "execution_count": null,
   "id": "30d1b548",
   "metadata": {},
   "outputs": [],
   "source": [
    "\n",
    "import pandas as pd\n",
    "\n",
    "uci_url = \"https://archive.ics.uci.edu/ml/machine-learning-databases/00350/default%20of%20credit%20card%20clients.xls\"\n",
    "\n",
    "try:\n",
    "    df_raw = pd.read_excel(uci_url, header=1)  # header=1 skips the first header row\n",
    "    print(\"✅ Downloaded dataset from UCI. Shape:\", df_raw.shape)\n",
    "    display(df_raw.head())\n",
    "except Exception as e:\n",
    "    print(\"⚠️ Could not download from UCI. Error:\\n\", e)\n",
    "    print(\"\\nTry downloading manually from UCI and uploading to this runtime, or place 'default_of_credit_card_clients.xls' in the working directory.\")\n",
    "    raise\n"
   ]
  },
  {
   "cell_type": "markdown",
   "id": "5e6a9810",
   "metadata": {},
   "source": [
    "\n",
    "## 🧹 Clean & Prepare\n",
    "- Rename target and a few column names for convenience\n",
    "- Ensure numeric types where needed\n",
    "- Create small helper features (e.g., utilization ratios)\n"
   ]
  },
  {
   "cell_type": "code",
   "execution_count": null,
   "id": "b8632c2d",
   "metadata": {},
   "outputs": [],
   "source": [
    "\n",
    "df = df_raw.copy()\n",
    "\n",
    "# Standardize column names\n",
    "df.columns = [c.strip().replace(' ', '_').replace('.', '_').lower() for c in df.columns]\n",
    "\n",
    "# Align known column names\n",
    "rename_map = {\n",
    "    'default_payment_next_month': 'default_next_month',\n",
    "    'pay_0': 'pay_1'  # UCI sometimes uses PAY_0 for September; rename to PAY_1 for consistency\n",
    "}\n",
    "df = df.rename(columns=rename_map)\n",
    "\n",
    "# Quick type checks\n",
    "numeric_cols = [c for c in df.columns if c not in ['sex','education','marriage']]\n",
    "for c in numeric_cols:\n",
    "    df[c] = pd.to_numeric(df[c], errors='coerce')\n",
    "\n",
    "# Drop rows with missing target\n",
    "df = df.dropna(subset=['default_next_month']).reset_index(drop=True)\n",
    "\n",
    "print(\"Shape after cleaning:\", df.shape)\n",
    "df.head()\n"
   ]
  },
  {
   "cell_type": "markdown",
   "id": "60f401a5",
   "metadata": {},
   "source": [
    "\n",
    "## 🔎 Exploratory Data Analysis\n",
    "- Class balance for `default_next_month`\n",
    "- Distribution of key numeric features\n",
    "- Correlations (heatmap for a subset to keep it readable)\n"
   ]
  },
  {
   "cell_type": "code",
   "execution_count": null,
   "id": "13292821",
   "metadata": {},
   "outputs": [],
   "source": [
    "\n",
    "# Target balance\n",
    "target_counts = df['default_next_month'].value_counts(dropna=False).sort_index()\n",
    "print(\"Target distribution (0=no default, 1=default):\\n\", target_counts)\n",
    "\n",
    "fig, ax = plt.subplots(figsize=(5,4))\n",
    "target_counts.plot(kind='bar', ax=ax)\n",
    "ax.set_title('Default Next Month — Class Balance')\n",
    "ax.set_xlabel('Default (0/1)')\n",
    "ax.set_ylabel('Count')\n",
    "plt.show()\n",
    "\n",
    "# Inspect some key numeric columns\n",
    "cols_to_plot = ['limit_bal', 'age', 'bill_amt1', 'pay_amt1']\n",
    "df[cols_to_plot].hist(bins=30, figsize=(10,6))\n",
    "plt.tight_layout()\n",
    "plt.show()\n",
    "\n",
    "# Correlation (subset for readability)\n",
    "subset_cols = ['default_next_month','limit_bal','age','bill_amt1','bill_amt2','bill_amt3','pay_amt1','pay_amt2','pay_amt3','pay_1','pay_2','pay_3']\n",
    "corr = df[subset_cols].corr(numeric_only=True)\n",
    "plt.figure(figsize=(8,6))\n",
    "sns.heatmap(corr, annot=False, cmap='viridis')\n",
    "plt.title('Correlation (selected features)')\n",
    "plt.show()\n"
   ]
  },
  {
   "cell_type": "markdown",
   "id": "960ef550",
   "metadata": {},
   "source": [
    "\n",
    "## 🧰 Features & Split\n",
    "We use several billing and payment variables, limits, and delinquency (`pay_1`, `pay_2`, `pay_3`).  \n",
    "We'll standardize numeric features and fit **Logistic Regression**.\n"
   ]
  },
  {
   "cell_type": "code",
   "execution_count": null,
   "id": "72caff9a",
   "metadata": {},
   "outputs": [],
   "source": [
    "\n",
    "feature_cols = [\n",
    "    'limit_bal','age',\n",
    "    'bill_amt1','bill_amt2','bill_amt3','bill_amt4','bill_amt5','bill_amt6',\n",
    "    'pay_amt1','pay_amt2','pay_amt3','pay_amt4','pay_amt5','pay_amt6',\n",
    "    'pay_1','pay_2','pay_3','pay_4','pay_5','pay_6',\n",
    "    'sex','education','marriage'\n",
    "]\n",
    "\n",
    "# Some columns may not exist or may be non-numeric; take intersection and drop NAs\n",
    "X = df[[c for c in feature_cols if c in df.columns]].copy()\n",
    "y = df['default_next_month'].astype(int)\n",
    "\n",
    "# Fill missing with 0 (simple strategy for demo; improve in production)\n",
    "X = X.fillna(0)\n",
    "\n",
    "# Train/test split\n",
    "X_train, X_test, y_train, y_test = train_test_split(X, y, test_size=0.2, random_state=42, stratify=y)\n",
    "\n",
    "# Scale continuous features (leave categorical 0/1 as-is)\n",
    "scaler = StandardScaler(with_mean=False)  # sparse-friendly; simple choice for demo\n",
    "X_train_scaled = scaler.fit_transform(X_train)\n",
    "X_test_scaled  = scaler.transform(X_test)\n",
    "\n",
    "X_train.shape, X_test.shape\n"
   ]
  },
  {
   "cell_type": "markdown",
   "id": "e8f67043",
   "metadata": {},
   "source": [
    "\n",
    "## 🤖 Model: Logistic Regression\n",
    "We train a basic model and report **Accuracy**, **ROC-AUC**, and a **Confusion Matrix**.\n"
   ]
  },
  {
   "cell_type": "code",
   "execution_count": null,
   "id": "bb0f42e1",
   "metadata": {},
   "outputs": [],
   "source": [
    "\n",
    "logreg = LogisticRegression(max_iter=200, n_jobs=None)\n",
    "logreg.fit(X_train_scaled, y_train)\n",
    "\n",
    "pred = logreg.predict(X_test_scaled)\n",
    "proba = logreg.predict_proba(X_test_scaled)[:,1]\n",
    "\n",
    "acc  = accuracy_score(y_test, pred)\n",
    "auc  = roc_auc_score(y_test, proba)\n",
    "\n",
    "print(f\"Accuracy: {acc:.3f} | ROC-AUC: {auc:.3f}\\n\")\n",
    "print(\"Classification Report:\\n\", classification_report(y_test, pred))\n",
    "\n",
    "disp = ConfusionMatrixDisplay.from_predictions(y_test, pred)\n",
    "plt.title(\"Confusion Matrix — Logistic Regression\")\n",
    "plt.show()\n"
   ]
  },
  {
   "cell_type": "markdown",
   "id": "af9a8f4d",
   "metadata": {},
   "source": [
    "\n",
    "## 📌 Most Influential Features\n",
    "Coefficient magnitude (absolute value) as a simple proxy for importance.\n"
   ]
  },
  {
   "cell_type": "code",
   "execution_count": null,
   "id": "09ddea09",
   "metadata": {},
   "outputs": [],
   "source": [
    "\n",
    "coef_series = pd.Series(logreg.coef_[0], index=X.columns).sort_values(key=np.abs, ascending=False)\n",
    "display(coef_series.head(15).to_frame('coef').style.background_gradient(axis=0))\n"
   ]
  },
  {
   "cell_type": "markdown",
   "id": "9d8b9085",
   "metadata": {},
   "source": [
    "\n",
    "## ✅ Conclusions & Next Steps\n",
    "- We demonstrated a **banking use case** (credit card customer default) end-to-end\n",
    "- Simple logistic regression gives a strong baseline; try tree models (XGBoost, Random Forest) for nonlinearity\n",
    "- Improve preprocessing (one-hot encoding categorical, better imputation, outlier handling)\n",
    "- Perform **hyperparameter tuning** and **cross-validation**\n",
    "- Consider **cost-sensitive learning** if default has asymmetric costs\n",
    "\n",
    "---\n",
    "\n",
    "### Optional: Extend to Bank Product KPIs\n",
    "- Aggregate monthly **bill/paid** amounts for portfolio-level trends\n",
    "- Build dashboards (Plotly) for **collections, delinquency buckets**, and **roll rates**\n",
    "- Add **survival analysis** (time-to-default) for deeper risk insights\n"
   ]
  }
 ],
 "metadata": {},
 "nbformat": 4,
 "nbformat_minor": 5
}
